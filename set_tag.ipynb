{
 "cells": [
  {
   "cell_type": "code",
   "execution_count": null,
   "metadata": {},
   "outputs": [],
   "source": [
    "!pip install mutagen tqdm"
   ]
  },
  {
   "cell_type": "code",
   "execution_count": null,
   "metadata": {},
   "outputs": [],
   "source": [
    "from pathlib import Path\n",
    "\n",
    "from mutagen.easyid3 import EasyID3\n",
    "from mutagen.id3 import APIC, ID3\n",
    "from mutagen import File\n",
    "from tqdm import tqdm"
   ]
  },
  {
   "cell_type": "code",
   "execution_count": null,
   "metadata": {},
   "outputs": [],
   "source": [
    "COVER_IMAGE_PATH = 'cover.png'\n",
    "folder  = Path('mp3_01')\n",
    "ALBUM = 'Made in Abyss Original Soundtrack 2'\n",
    "current_disc_num  = 2\n",
    "TOTAL_DISC_NUM = 2\n",
    "\n",
    "ls           = folder.iterdir()\n",
    "TOTAL_TRACK_NUM = len(list(folder.iterdir()))\n",
    "for current_track_num in tqdm(range(TOTAL_TRACK_NUM)):\n",
    "    file = next(ls)\n",
    "    filename = file.stem\n",
    "    music_title = filename[3:]\n",
    "\n",
    "    path = file.resolve()\n",
    "    tags = EasyID3(path)\n",
    "    tags['title'] = music_title\n",
    "    tags['album'] = ALBUM\n",
    "    tags['tracknumber'] = f'{current_track_num+1}/{TOTAL_TRACK_NUM}'\n",
    "    tags['discnumber']  = f'{current_disc_num}/{TOTAL_DISC_NUM}'\n",
    "    tags.save()\n",
    "\n",
    "    tags = ID3(path)\n",
    "    with open(COVER_IMAGE_PATH, \"rb\") as img_file:\n",
    "        cover_img_byte_str = img_file.read()\n",
    "        tags.add(APIC(mime=\"image/png\", type=3, data=cover_img_byte_str))\n",
    "    tags.save()\n"
   ]
  }
 ],
 "metadata": {
  "kernelspec": {
   "display_name": "Python 3.8.8 ('base')",
   "language": "python",
   "name": "python3"
  },
  "language_info": {
   "codemirror_mode": {
    "name": "ipython",
    "version": 3
   },
   "file_extension": ".py",
   "mimetype": "text/x-python",
   "name": "python",
   "nbconvert_exporter": "python",
   "pygments_lexer": "ipython3",
   "version": "3.8.8"
  },
  "orig_nbformat": 4,
  "vscode": {
   "interpreter": {
    "hash": "93a91c2c8748e1dd3fae8406a246507e16210444618dd008ef958bef633dd81e"
   }
  }
 },
 "nbformat": 4,
 "nbformat_minor": 2
}
