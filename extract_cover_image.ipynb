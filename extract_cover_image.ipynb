{
 "cells": [
  {
   "cell_type": "code",
   "execution_count": null,
   "metadata": {},
   "outputs": [],
   "source": [
    "!pip install eyed3"
   ]
  },
  {
   "cell_type": "code",
   "execution_count": null,
   "metadata": {},
   "outputs": [],
   "source": [
    "import eyed3\n",
    "\n",
    "from pathlib import Path"
   ]
  },
  {
   "cell_type": "code",
   "execution_count": null,
   "metadata": {},
   "outputs": [],
   "source": [
    "def extract_cover_image(input_mp3_path, output_folder_path):\n",
    "    af = eyed3.load(input_mp3_path)\n",
    "\n",
    "    for image in af.tag.images:\n",
    "        output_image_name = ''\n",
    "        \n",
    "        if image.mime_type == 'image/jpeg':\n",
    "            output_image_name = Path(input_mp3_path).stem + '.jpg'\n",
    "        elif image.mime_type == 'image/png':\n",
    "            output_image_name = Path(input_mp3_path).stem + '.png'\n",
    "\n",
    "        if output_image_name:\n",
    "            output_image_path = Path(output_folder_path) / output_image_name\n",
    "            with open(output_image_path, \"wb\") as fo:\n",
    "                fo.write(image.image_data)"
   ]
  },
  {
   "cell_type": "code",
   "execution_count": null,
   "metadata": {},
   "outputs": [],
   "source": [
    "folder  = Path('mp3_01')\n",
    "output_folder = = Path('covers')\n",
    "\n",
    "ls           = folder.iterdir()\n",
    "TOTAL_TRACK_NUM = len(list(folder.iterdir()))\n",
    "for current_track_num in tqdm(range(TOTAL_TRACK_NUM)):\n",
    "    file = next(ls)\n",
    "    filename = file.stem\n",
    "    music_title = filename[3:]\n",
    "\n",
    "    path = file.resolve()\n",
    "\n",
    "    extract_cover_image(file, output_folder)\n"
   ]
  },
  {
   "cell_type": "code",
   "execution_count": null,
   "metadata": {},
   "outputs": [],
   "source": []
  }
 ],
 "metadata": {
  "kernelspec": {
   "display_name": "Python 3.8.8 ('base')",
   "language": "python",
   "name": "python3"
  },
  "language_info": {
   "codemirror_mode": {
    "name": "ipython",
    "version": 3
   },
   "file_extension": ".py",
   "mimetype": "text/x-python",
   "name": "python",
   "nbconvert_exporter": "python",
   "pygments_lexer": "ipython3",
   "version": "3.8.8"
  },
  "orig_nbformat": 4,
  "vscode": {
   "interpreter": {
    "hash": "93a91c2c8748e1dd3fae8406a246507e16210444618dd008ef958bef633dd81e"
   }
  }
 },
 "nbformat": 4,
 "nbformat_minor": 2
}
