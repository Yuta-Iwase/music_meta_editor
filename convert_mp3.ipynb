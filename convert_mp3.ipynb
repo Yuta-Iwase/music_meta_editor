{
 "cells": [
  {
   "cell_type": "code",
   "execution_count": null,
   "metadata": {},
   "outputs": [],
   "source": [
    "from pathlib import Path"
   ]
  },
  {
   "cell_type": "code",
   "execution_count": null,
   "metadata": {},
   "outputs": [],
   "source": [
    "input_folder  = Path('Disc 1')\n",
    "output_folder = Path('mp3_01')\n",
    "input_folder_name  = input_folder.name\n",
    "output_folder_name = output_folder.name\n",
    "ls           = input_folder.iterdir()\n",
    "for file in ls:\n",
    "    input_file_path  = str(file.resolve())\n",
    "    output_file_path = str((output_folder / file.with_suffix('.mp3').name).resolve())\n",
    "    !ffmpeg -i \"$input_file_path\" -vn -ac 2 -ar 44100 -ab 256k -acodec libmp3lame -f mp3 \"$output_file_path\"\n"
   ]
  }
 ],
 "metadata": {
  "kernelspec": {
   "display_name": "Python 3.8.8 ('base')",
   "language": "python",
   "name": "python3"
  },
  "language_info": {
   "codemirror_mode": {
    "name": "ipython",
    "version": 3
   },
   "file_extension": ".py",
   "mimetype": "text/x-python",
   "name": "python",
   "nbconvert_exporter": "python",
   "pygments_lexer": "ipython3",
   "version": "3.8.8"
  },
  "orig_nbformat": 4,
  "vscode": {
   "interpreter": {
    "hash": "93a91c2c8748e1dd3fae8406a246507e16210444618dd008ef958bef633dd81e"
   }
  }
 },
 "nbformat": 4,
 "nbformat_minor": 2
}
